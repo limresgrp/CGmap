{
 "cells": [
  {
   "cell_type": "code",
   "execution_count": null,
   "id": "0c296893",
   "metadata": {},
   "outputs": [],
   "source": [
    "import yaml\n",
    "import os\n",
    "\n",
    "# Function to process the YAML file\n",
    "def process_yaml(file_path):\n",
    "    with open(file_path, 'r') as file:\n",
    "        data = yaml.safe_load(file)\n",
    "    \n",
    "    # Assign the same value to keys ending with '_BB'\n",
    "    bb_keys = [key for key in data if key.endswith('_BB')]\n",
    "    for key in bb_keys:\n",
    "        data[key] = data[bb_keys[0]]  # Assign the same value\n",
    "    \n",
    "    # Rescale values to go from 0 to N\n",
    "    unique_values = sorted(set(data.values()))\n",
    "    value_map = {v: i for i, v in enumerate(unique_values)}\n",
    "    rescaled_data = {key: value_map[value] for key, value in data.items()}\n",
    "    \n",
    "    return rescaled_data\n",
    "\n",
    "# Example usage\n",
    "file_path = '/home/angiod@usi.ch/CGmap/cgmap/data/martini2/bead_types.yaml'  # Replace with your YAML file path\n",
    "processed_data = process_yaml(file_path)\n",
    "# Save the processed data back to a YAML file with the same name and append '.bbcommon' before the extension\n",
    "\n",
    "base_name, ext = os.path.splitext(file_path)\n",
    "output_file_path = f\"{base_name}.bbcommon{ext}\"\n",
    "with open(output_file_path, 'w') as output_file:\n",
    "    yaml.safe_dump(processed_data, output_file)\n",
    "\n",
    "print(f\"Processed data saved to {output_file_path}\")"
   ]
  }
 ],
 "metadata": {
  "kernelspec": {
   "display_name": "cgmap",
   "language": "python",
   "name": "python3"
  },
  "language_info": {
   "codemirror_mode": {
    "name": "ipython",
    "version": 3
   },
   "file_extension": ".py",
   "mimetype": "text/x-python",
   "name": "python",
   "nbconvert_exporter": "python",
   "pygments_lexer": "ipython3",
   "version": "3.10.13"
  }
 },
 "nbformat": 4,
 "nbformat_minor": 5
}
