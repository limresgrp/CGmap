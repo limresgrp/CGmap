{
 "cells": [
  {
   "cell_type": "code",
   "execution_count": null,
   "metadata": {},
   "outputs": [],
   "source": [
    "%reload_ext autoreload\n",
    "%autoreload 2"
   ]
  },
  {
   "cell_type": "code",
   "execution_count": null,
   "metadata": {},
   "outputs": [],
   "source": [
    "from cgmap.mapping.mapper import Mapper\n",
    "\n",
    "args_dict = {\n",
    "    'mapping': 'martini3',\n",
    "    'input': '/storage_common/angiod/chignolin_unfolded/chignolin.gro',\n",
    "    'inputtraj': '/storage_common/angiod/chignolin_unfolded/chignolin_forces_unfolded_translation_nojump.trr',\n",
    "    'traj_format': 'trr',\n",
    "    'trajslice': ':2',\n",
    "    'selection': 'protein',\n",
    "    'output': 'pro.gro',\n",
    "    'outputtraj': 'xtc',\n",
    "    'isatomistic': True,\n",
    "}\n",
    "\n",
    "mapping = Mapper(args_dict=args_dict)\n",
    "\n",
    "# --- Option 1 --- #\n",
    "# Map only the ith file in the list of files (and optionally trajectories)\n",
    "\n",
    "mapping.map(index=0)\n",
    "mapping.save(filename='/storage_common/angiod/chignolin_unfolded/chignolin.data.test.pdb')\n",
    "# mapping.save_atomistic()\n",
    "mapping.save_npz(filename='/storage_common/angiod/chignolin_unfolded/chignolin.data.A.kcal.test.npz', pos_unit='Angstrom', force_unit='kcal/(mol*Angstrom)')\n",
    "mapping.save_npz(filename='/storage_common/angiod/chignolin_unfolded/chignolin.data.nm.kJ.test.npz', pos_unit='nm', force_unit='kJ/(mol*nm)')\n",
    "\n",
    "# --- Option 2 --- #\n",
    "# Map all the files one after the other\n",
    "\n",
    "# for i, m in enumerate(mapping()):\n",
    "#     m.save()\n",
    "#     m.save_atomistic()\n",
    "#     m.save_npz(filename=f'data_{i}.npz', pos_unit='Angstrom', force_unit='kcal/(mol*Angstrom)')"
   ]
  }
 ],
 "metadata": {
  "kernelspec": {
   "display_name": "cgmap",
   "language": "python",
   "name": "python3"
  },
  "language_info": {
   "codemirror_mode": {
    "name": "ipython",
    "version": 3
   },
   "file_extension": ".py",
   "mimetype": "text/x-python",
   "name": "python",
   "nbconvert_exporter": "python",
   "pygments_lexer": "ipython3",
   "version": "3.10.13"
  }
 },
 "nbformat": 4,
 "nbformat_minor": 2
}
