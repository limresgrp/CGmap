{
 "cells": [
  {
   "cell_type": "code",
   "execution_count": null,
   "metadata": {},
   "outputs": [],
   "source": [
    "%reload_ext autoreload\n",
    "%autoreload 2"
   ]
  },
  {
   "cell_type": "code",
   "execution_count": null,
   "metadata": {},
   "outputs": [],
   "source": [
    "from cgmap.mapping.mapper import Mapper\n",
    "\n",
    "config = {\n",
    "    'mapping': 'martini3',\n",
    "    'input': '/storage_common/angiod/PED/pdb/valid/PED00023e001.pdb',\n",
    "    'selection': 'protein',\n",
    "    'output': 'pro.gro',\n",
    "    'outputtraj': 'xtc',\n",
    "}\n",
    "\n",
    "mapping = Mapper(config=config)\n",
    "mapping.map()\n",
    "mapping.save()"
   ]
  }
 ],
 "metadata": {
  "kernelspec": {
   "display_name": "cgmap",
   "language": "python",
   "name": "python3"
  },
  "language_info": {
   "codemirror_mode": {
    "name": "ipython",
    "version": 3
   },
   "file_extension": ".py",
   "mimetype": "text/x-python",
   "name": "python",
   "nbconvert_exporter": "python",
   "pygments_lexer": "ipython3",
   "version": "3.10.13"
  }
 },
 "nbformat": 4,
 "nbformat_minor": 2
}
