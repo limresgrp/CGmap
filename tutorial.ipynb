{
 "cells": [
  {
   "cell_type": "code",
   "execution_count": null,
   "metadata": {},
   "outputs": [],
   "source": [
    "import os\n",
    "import yaml\n",
    "\n",
    "# List availavle mappings\n",
    "cgmap_data_dir = os.path.join('.', 'cgmap', 'data')\n",
    "mappings = sorted([name for name in os.listdir(cgmap_data_dir) if os.path.isdir(os.path.join(cgmap_data_dir, name))])\n",
    "mapping_resnames = {}\n",
    "\n",
    "for mapping_name in mappings:\n",
    "    folder_path = os.path.join(cgmap_data_dir, mapping_name)\n",
    "    resnames = set()\n",
    "    for fname in os.listdir(folder_path):\n",
    "        if fname.endswith('.yaml'):\n",
    "            yaml_path = os.path.join(folder_path, fname)\n",
    "            with open(yaml_path, 'r') as f:\n",
    "                try:\n",
    "                    data = yaml.safe_load(f)\n",
    "                    molecule = data.get('molecule')\n",
    "                    if molecule:\n",
    "                        resnames.add(molecule)\n",
    "                except Exception as e:\n",
    "                    pass\n",
    "    mapping_resnames[mapping_name] = sorted(resnames)\n",
    "\n",
    "print(\"Available mappings: [supported resnames for these mappings]\")\n",
    "for mapping_name, resnames in mapping_resnames.items():\n",
    "    print(f\"{mapping_name}: {', '.join(resnames) if resnames else 'No resnames found'}\")"
   ]
  },
  {
   "cell_type": "code",
   "execution_count": null,
   "metadata": {},
   "outputs": [],
   "source": [
    "from cgmap.mapping.mapper import Mapper\n",
    "\n",
    "args_dict = {\n",
    "    'mapping': 'martini3',\n",
    "    'input': 'data/a2a.pdb',\n",
    "    # 'inputtraj': 'data/mytraj.trr [xtc, ...]',\n",
    "    # 'trajslice': '::10', # stride of 10\n",
    "    'selection': 'protein',\n",
    "    'isatomistic': True, # Tell we are mapping from atomistig to CG\n",
    "}\n",
    "\n",
    "mapping = Mapper(args_dict=args_dict)\n",
    "\n",
    "# --- Option 1 --- #\n",
    "# Map only the ith file in the list of files (and optionally trajectories)\n",
    "\n",
    "# mapping.map(index=0)\n",
    "# mapping.save()\n",
    "# mapping.save_atomistic()\n",
    "# mapping.save_npz(to_pos_unit='Angstrom', to_force_unit='kcal/(mol*Angstrom)')\n",
    "\n",
    "# --- Option 2 --- #\n",
    "# Map all the files one after the other\n",
    "\n",
    "for i, (m, npz_filename) in enumerate(mapping()):\n",
    "    m.save()\n",
    "    m.save_atomistic()\n",
    "    m.save_npz(\n",
    "        from_pos_unit='Angstrom',\n",
    "        to_pos_unit='Angstrom',\n",
    "        from_force_unit='kcal/(mol*Angstrom)',\n",
    "        to_force_unit='kcal/(mol*Angstrom)'\n",
    "    )"
   ]
  }
 ],
 "metadata": {
  "kernelspec": {
   "display_name": "cgmap",
   "language": "python",
   "name": "python3"
  },
  "language_info": {
   "codemirror_mode": {
    "name": "ipython",
    "version": 3
   },
   "file_extension": ".py",
   "mimetype": "text/x-python",
   "name": "python",
   "nbconvert_exporter": "python",
   "pygments_lexer": "ipython3",
   "version": "3.10.13"
  }
 },
 "nbformat": 4,
 "nbformat_minor": 2
}
