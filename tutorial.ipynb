{
 "cells": [
  {
   "cell_type": "code",
   "execution_count": null,
   "metadata": {},
   "outputs": [],
   "source": [
    "%reload_ext autoreload\n",
    "%autoreload 2"
   ]
  },
  {
   "cell_type": "code",
   "execution_count": 1,
   "metadata": {},
   "outputs": [
    {
     "name": "stderr",
     "output_type": "stream",
     "text": [
      "/home/angiod@usi.ch/anaconda3/envs/cgmap/lib/python3.10/site-packages/tqdm/auto.py:21: TqdmWarning: IProgress not found. Please update jupyter and ipywidgets. See https://ipywidgets.readthedocs.io/en/stable/user_install.html\n",
      "  from .autonotebook import tqdm as notebook_tqdm\n",
      "/home/angiod@usi.ch/anaconda3/envs/cgmap/lib/python3.10/site-packages/Bio/Application/__init__.py:40: BiopythonDeprecationWarning: The Bio.Application modules and modules relying on it have been deprecated.\n",
      "\n",
      "Due to the on going maintenance burden of keeping command line application\n",
      "wrappers up to date, we have decided to deprecate and eventually remove these\n",
      "modules.\n",
      "\n",
      "We instead now recommend building your command line and invoking it directly\n",
      "with the subprocess module.\n",
      "  warnings.warn(\n",
      "/home/angiod@usi.ch/anaconda3/envs/cgmap/lib/python3.10/site-packages/MDAnalysis/coordinates/XDR.py:202: UserWarning: Cannot write lock/offset file in same location as /storage_common/nobilm/CG_project/chignolin_unfolded_frames.trr. Using slow offset calculation.\n",
      "  warnings.warn(f\"Cannot write lock/offset file in same location as \"\n",
      "/home/angiod@usi.ch/anaconda3/envs/cgmap/lib/python3.10/site-packages/MDAnalysis/coordinates/XDR.py:258: UserWarning: Couldn't save offsets because: [Errno 13] Permission denied: '/storage_common/nobilm/CG_project/.chignolin_unfolded_frames.trr_offsets.npz'\n",
      "  warnings.warn(f\"Couldn't save offsets because: {e}\")\n",
      "Missing TYR_H2 in mapping file\n",
      "Missing TYR_H3 in mapping file\n",
      "Missing TYR_OXT in mapping file\n"
     ]
    }
   ],
   "source": [
    "from cgmap.mapping.mapper import Mapper\n",
    "\n",
    "args_dict = {\n",
    "    'mapping': 'martini3',\n",
    "    'input': '/storage_common/nobilm/CG_project/chignolin_unfolded_frames.pdb',\n",
    "    'inputtraj': '/storage_common/nobilm/CG_project/chignolin_unfolded_frames.trr',\n",
    "    # 'traj_format': 'trr',\n",
    "    # 'trajslice': ':1000',\n",
    "    'selection': 'protein',\n",
    "    'output': 'pro.pdb',\n",
    "    'outputtraj': 'trr',\n",
    "    'isatomistic': True,\n",
    "}\n",
    "\n",
    "mapping = Mapper(args_dict=args_dict)\n",
    "\n",
    "# --- Option 1 --- #\n",
    "# Map only the ith file in the list of files (and optionally trajectories)\n",
    "\n",
    "mapping.map(index=0)\n",
    "# mapping.save(filename='/storage_common/angiod/chignolin_unfolded/chignolin.data.test.pdb')\n",
    "# mapping.save_atomistic()\n",
    "mapping.save_npz(filename='/storage_common/angiod/chignolin_unfolded/chignolin.data.A.kcal.test.npz', to_pos_unit='Angstrom', to_force_unit='kcal/(mol*Angstrom)')\n",
    "# mapping.save_npz(filename='/storage_common/angiod/chignolin_unfolded/chignolin.data.nm.kJ.test.npz', pos_unit='nm', force_unit='kJ/(mol*nm)')\n",
    "\n",
    "# --- Option 2 --- #\n",
    "# Map all the files one after the other\n",
    "\n",
    "# for i, m in enumerate(mapping()):\n",
    "#     m.save()\n",
    "#     m.save_atomistic()\n",
    "#     m.save_npz(filename=f'data_{i}.npz', pos_unit='Angstrom', force_unit='kcal/(mol*Angstrom)')"
   ]
  }
 ],
 "metadata": {
  "kernelspec": {
   "display_name": "cgmap",
   "language": "python",
   "name": "python3"
  },
  "language_info": {
   "codemirror_mode": {
    "name": "ipython",
    "version": 3
   },
   "file_extension": ".py",
   "mimetype": "text/x-python",
   "name": "python",
   "nbconvert_exporter": "python",
   "pygments_lexer": "ipython3",
   "version": "3.10.13"
  }
 },
 "nbformat": 4,
 "nbformat_minor": 2
}
