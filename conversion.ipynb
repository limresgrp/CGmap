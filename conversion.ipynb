{
 "cells": [
  {
   "cell_type": "code",
   "execution_count": null,
   "metadata": {},
   "outputs": [],
   "source": [
    "%reload_ext autoreload\n",
    "%autoreload 2"
   ]
  },
  {
   "cell_type": "code",
   "execution_count": null,
   "metadata": {},
   "outputs": [],
   "source": [
    "from cgmap.mapping.conversion import Conversion\n",
    "\n",
    "args_dict = {\n",
    "    'mapping': 'martini3.membrane',\n",
    "    'input': '/storage_common/angiod/HEroBM-CG/Ali/equilibrated.gro',\n",
    "    'selection': 'all',\n",
    "    'isatomistic': True,\n",
    "    'ffield': 'Amber',\n",
    "}\n",
    "\n",
    "conversion = Conversion()\n",
    "conversion(**args_dict)"
   ]
  }
 ],
 "metadata": {
  "kernelspec": {
   "display_name": "cgmap",
   "language": "python",
   "name": "python3"
  },
  "language_info": {
   "codemirror_mode": {
    "name": "ipython",
    "version": 3
   },
   "file_extension": ".py",
   "mimetype": "text/x-python",
   "name": "python",
   "nbconvert_exporter": "python",
   "pygments_lexer": "ipython3",
   "version": "3.10.13"
  }
 },
 "nbformat": 4,
 "nbformat_minor": 2
}
